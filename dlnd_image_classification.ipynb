{
 "cells": [
  {
   "cell_type": "markdown",
   "metadata": {
    "collapsed": true
   },
   "source": [
    "# Image Classification\n",
    "In this project, you'll classify images from the [CIFAR-10 dataset](https://www.cs.toronto.edu/~kriz/cifar.html).  The dataset consists of airplanes, dogs, cats, and other objects. You'll preprocess the images, then train a convolutional neural network on all the samples. The images need to be normalized and the labels need to be one-hot encoded.  You'll get to apply what you learned and build a convolutional, max pooling, dropout, and fully connected layers.  At the end, you'll get to see your neural network's predictions on the sample images.\n",
    "## Get the Data\n",
    "Run the following cell to download the [CIFAR-10 dataset for python](https://www.cs.toronto.edu/~kriz/cifar-10-python.tar.gz)."
   ]
  },
  {
   "cell_type": "code",
   "execution_count": 5,
   "metadata": {},
   "outputs": [
    {
     "name": "stdout",
     "output_type": "stream",
     "text": [
      "All files found!\n"
     ]
    }
   ],
   "source": [
    "\"\"\"\n",
    "DON'T MODIFY ANYTHING IN THIS CELL THAT IS BELOW THIS LINE\n",
    "\"\"\"\n",
    "from urllib.request import urlretrieve\n",
    "from os.path import isfile, isdir\n",
    "from tqdm import tqdm\n",
    "import problem_unittests as tests\n",
    "import tarfile\n",
    "\n",
    "cifar10_dataset_folder_path = 'cifar-10-batches-py'\n",
    "\n",
    "# Use Floyd's cifar-10 dataset if present\n",
    "floyd_cifar10_location = '/input/cifar-10/python.tar.gz'\n",
    "if isfile(floyd_cifar10_location):\n",
    "    tar_gz_path = floyd_cifar10_location\n",
    "else:\n",
    "    tar_gz_path = 'cifar-10-python.tar.gz'\n",
    "\n",
    "class DLProgress(tqdm):\n",
    "    last_block = 0\n",
    "\n",
    "    def hook(self, block_num=1, block_size=1, total_size=None):\n",
    "        self.total = total_size\n",
    "        self.update((block_num - self.last_block) * block_size)\n",
    "        self.last_block = block_num\n",
    "\n",
    "if not isfile(tar_gz_path):\n",
    "    with DLProgress(unit='B', unit_scale=True, miniters=1, desc='CIFAR-10 Dataset') as pbar:\n",
    "        urlretrieve(\n",
    "            'https://www.cs.toronto.edu/~kriz/cifar-10-python.tar.gz',\n",
    "            tar_gz_path,\n",
    "            pbar.hook)\n",
    "\n",
    "if not isdir(cifar10_dataset_folder_path):\n",
    "    with tarfile.open(tar_gz_path) as tar:\n",
    "        tar.extractall()\n",
    "        tar.close()\n",
    "\n",
    "\n",
    "tests.test_folder_path(cifar10_dataset_folder_path)"
   ]
  },
  {
   "cell_type": "markdown",
   "metadata": {},
   "source": [
    "## Explore the Data\n",
    "The dataset is broken into batches to prevent your machine from running out of memory.  The CIFAR-10 dataset consists of 5 batches, named `data_batch_1`, `data_batch_2`, etc.. Each batch contains the labels and images that are one of the following:\n",
    "* airplane\n",
    "* automobile\n",
    "* bird\n",
    "* cat\n",
    "* deer\n",
    "* dog\n",
    "* frog\n",
    "* horse\n",
    "* ship\n",
    "* truck\n",
    "\n",
    "Understanding a dataset is part of making predictions on the data.  Play around with the code cell below by changing the `batch_id` and `sample_id`. The `batch_id` is the id for a batch (1-5). The `sample_id` is the id for a image and label pair in the batch.\n",
    "\n",
    "Ask yourself \"What are all possible labels?\", \"What is the range of values for the image data?\", \"Are the labels in order or random?\".  Answers to questions like these will help you preprocess the data and end up with better predictions."
   ]
  },
  {
   "cell_type": "code",
   "execution_count": 19,
   "metadata": {},
   "outputs": [
    {
     "name": "stdout",
     "output_type": "stream",
     "text": [
      "\n",
      "Stats of batch 1:\n",
      "Samples: 10000\n",
      "Label Counts: {0: 1005, 1: 974, 2: 1032, 3: 1016, 4: 999, 5: 937, 6: 1030, 7: 1001, 8: 1025, 9: 981}\n",
      "First 20 Labels: [6, 9, 9, 4, 1, 1, 2, 7, 8, 3, 4, 7, 7, 2, 9, 9, 9, 3, 2, 6]\n",
      "\n",
      "Example of Image 103:\n",
      "Image - Min Value: 0 Max Value: 255\n",
      "Image - Shape: (32, 32, 3)\n",
      "Label - Label Id: 6 Name: frog\n"
     ]
    },
    {
     "data": {
      "image/png": "[encoded data removed]",
      "text/plain": [
       "<matplotlib.figure.Figure at 0x116d1ae80>"
      ]
     },
     "metadata": {
      "image/png": {
       "height": 250,
       "width": 253
      }
     },
     "output_type": "display_data"
    }
   ],
   "source": [
    "%matplotlib inline\n",
    "%config InlineBackend.figure_format = 'retina'\n",
    "\n",
    "import helper\n",
    "import numpy as np\n",
    "\n",
    "# Explore the dataset\n",
    "batch_id = 1\n",
    "sample_id = 103\n",
    "helper.display_stats(cifar10_dataset_folder_path, batch_id, sample_id)"
   ]
  },
  {
   "cell_type": "markdown",
   "metadata": {},
   "source": [
    "## Implement Preprocess Functions\n",
    "### Normalize\n",
    "In the cell below, implement the `normalize` function to take in image data, `x`, and return it as a normalized Numpy array. The values should be in the range of 0 to 1, inclusive.  The return object should be the same shape as `x`."
   ]
  },
  {
   "cell_type": "code",
   "execution_count": 31,
   "metadata": {},
   "outputs": [
    {
     "name": "stdout",
     "output_type": "stream",
     "text": [
      "Tests Passed\n"
     ]
    }
   ],
   "source": [
    "def normalize(x):\n",
    "    \"\"\"\n",
    "    Normalize a list of sample image data in the range of 0 to 1\n",
    "    : x: List of image data.  The image shape is (32, 32, 3)\n",
    "    : return: Numpy array of normalize data\n",
    "    \"\"\"\n",
    "    # Normalize\n",
    "    # 255 -> 1\n",
    "    # 1 -> 0\n",
    "    return x * (1/255)\n",
    "    # Alternative solution more general solution. Source: http://stackoverflow.com/questions/21030391/how-to-normalize-array-numpy\n",
    "    # return x / np.linalg.norm(x)\n",
    "\n",
    "\n",
    "\"\"\"\n",
    "DON'T MODIFY ANYTHING IN THIS CELL THAT IS BELOW THIS LINE\n",
    "\"\"\"\n",
    "tests.test_normalize(normalize)"
   ]
  },
  {
   "cell_type": "markdown",
   "metadata": {},
   "source": [
    "### One-hot encode\n",
    "Just like the previous code cell, you'll be implementing a function for preprocessing.  This time, you'll implement the `one_hot_encode` function. The input, `x`, are a list of labels.  Implement the function to return the list of labels as One-Hot encoded Numpy array.  The possible values for labels are 0 to 9. The one-hot encoding function should return the same encoding for each value between each call to `one_hot_encode`.  Make sure to save the map of encodings outside the function.\n",
    "\n",
    "Hint: Don't reinvent the wheel."
   ]
  },
  {
   "cell_type": "code",
   "execution_count": 37,
   "metadata": {},
   "outputs": [
    {
     "name": "stdout",
     "output_type": "stream",
     "text": [
      "Tests Passed\n"
     ]
    }
   ],
   "source": [
    "def one_hot_encode(x):\n",
    "    \"\"\"\n",
    "    One hot encode a list of sample labels. Return a one-hot encoded vector for each label.\n",
    "    : x: List of sample Labels\n",
    "    : return: Numpy array of one-hot encoded labels\n",
    "    \"\"\"\n",
    "    result= []\n",
    "    for label in x:\n",
    "        one_hot = np.zeros(10)\n",
    "        one_hot[label] = 1\n",
    "        result.append(one_hot)\n",
    "    \n",
    "    return np.array(result)\n",
    "\n",
    "\n",
    "\"\"\"\n",
    "DON'T MODIFY ANYTHING IN THIS CELL THAT IS BELOW THIS LINE\n",
    "\"\"\"\n",
    "tests.test_one_hot_encode(one_hot_encode)"
   ]
  },
  {
   "cell_type": "markdown",
   "metadata": {},
   "source": [
    "### Randomize Data\n",
    "As you saw from exploring the data above, the order of the samples are randomized.  It doesn't hurt to randomize it again, but you don't need to for this dataset."
   ]
  },
  {
   "cell_type": "markdown",
   "metadata": {},
   "source": [
    "## Preprocess all the data and save it\n",
    "Running the code cell below will preprocess all the CIFAR-10 data and save it to file. The code below also uses 10% of the training data for validation."
   ]
  },
  {
   "cell_type": "code",
   "execution_count": 38,
   "metadata": {
    "collapsed": true
   },
   "outputs": [],
   "source": [
    "\"\"\"\n",
    "DON'T MODIFY ANYTHING IN THIS CELL\n",
    "\"\"\"\n",
    "# Preprocess Training, Validation, and Testing Data\n",
    "helper.preprocess_and_save_data(cifar10_dataset_folder_path, normalize, one_hot_encode)"
   ]
  },
  {
   "cell_type": "markdown",
   "metadata": {},
   "source": [
    "# Check Point\n",
    "This is your first checkpoint.  If you ever decide to come back to this notebook or have to restart the notebook, you can start from here.  The preprocessed data has been saved to disk."
   ]
  },
  {
   "cell_type": "code",
   "execution_count": 83,
   "metadata": {
    "collapsed": true
   },
   "outputs": [],
   "source": [
    "\"\"\"\n",
    "DON'T MODIFY ANYTHING IN THIS CELL\n",
    "\"\"\"\n",
    "import pickle\n",
    "import problem_unittests as tests\n",
    "import helper\n",
    "\n",
    "# Load the Preprocessed Validation data\n",
    "valid_features, valid_labels = pickle.load(open('preprocess_validation.p', mode='rb'))"
   ]
  },
  {
   "cell_type": "markdown",
   "metadata": {},
   "source": [
    "## Build the network\n",
    "For the neural network, you'll build each layer into a function.  Most of the code you've seen has been outside of functions. To test your code more thoroughly, we require that you put each layer in a function.  This allows us to give you better feedback and test for simple mistakes using our unittests before you submit your project.\n",
    "\n",
    ">**Note:** If you're finding it hard to dedicate enough time for this course each week, we've provided a small shortcut to this part of the project. In the next couple of problems, you'll have the option to use classes from the [TensorFlow Layers](https://www.tensorflow.org/api_docs/python/tf/layers) or [TensorFlow Layers (contrib)](https://www.tensorflow.org/api_guides/python/contrib.layers) packages to build each layer, except the layers you build in the \"Convolutional and Max Pooling Layer\" section.  TF Layers is similar to Keras's and TFLearn's abstraction to layers, so it's easy to pickup.\n",
    "\n",
    ">However, if you would like to get the most out of this course, try to solve all the problems _without_ using anything from the TF Layers packages. You **can** still use classes from other packages that happen to have the same name as ones you find in TF Layers! For example, instead of using the TF Layers version of the `conv2d` class, [tf.layers.conv2d](https://www.tensorflow.org/api_docs/python/tf/layers/conv2d), you would want to use the TF Neural Network version of `conv2d`, [tf.nn.conv2d](https://www.tensorflow.org/api_docs/python/tf/nn/conv2d). \n",
    "\n",
    "Let's begin!\n",
    "\n",
    "### Input\n",
    "The neural network needs to read the image data, one-hot encoded labels, and dropout keep probability. Implement the following functions\n",
    "* Implement `neural_net_image_input`\n",
    " * Return a [TF Placeholder](https://www.tensorflow.org/api_docs/python/tf/placeholder)\n",
    " * Set the shape using `image_shape` with batch size set to `None`.\n",
    " * Name the TensorFlow placeholder \"x\" using the TensorFlow `name` parameter in the [TF Placeholder](https://www.tensorflow.org/api_docs/python/tf/placeholder).\n",
    "* Implement `neural_net_label_input`\n",
    " * Return a [TF Placeholder](https://www.tensorflow.org/api_docs/python/tf/placeholder)\n",
    " * Set the shape using `n_classes` with batch size set to `None`.\n",
    " * Name the TensorFlow placeholder \"y\" using the TensorFlow `name` parameter in the [TF Placeholder](https://www.tensorflow.org/api_docs/python/tf/placeholder).\n",
    "* Implement `neural_net_keep_prob_input`\n",
    " * Return a [TF Placeholder](https://www.tensorflow.org/api_docs/python/tf/placeholder) for dropout keep probability.\n",
    " * Name the TensorFlow placeholder \"keep_prob\" using the TensorFlow `name` parameter in the [TF Placeholder](https://www.tensorflow.org/api_docs/python/tf/placeholder).\n",
    "\n",
    "These names will be used at the end of the project to load your saved model.\n",
    "\n",
    "Note: `None` for shapes in TensorFlow allow for a dynamic size."
   ]
  },
  {
   "cell_type": "code",
   "execution_count": 84,
   "metadata": {},
   "outputs": [
    {
     "name": "stdout",
     "output_type": "stream",
     "text": [
      "Image Input Tests Passed.\n",
      "Label Input Tests Passed.\n",
      "Keep Prob Tests Passed.\n"
     ]
    }
   ],
   "source": [
    "import tensorflow as tf\n",
    "\n",
    "def neural_net_image_input(image_shape):\n",
    "    \"\"\"\n",
    "    Return a Tensor for a batch of image input\n",
    "    : image_shape: Shape of the images\n",
    "    : return: Tensor for image input.\n",
    "    \"\"\"\n",
    "    tf_shape = [None]\n",
    "    tf_shape.extend(image_shape)\n",
    "    return tf.placeholder(tf.float32, shape=tf_shape, name='x')\n",
    "\n",
    "\n",
    "def neural_net_label_input(n_classes):\n",
    "    \"\"\"\n",
    "    Return a Tensor for a batch of label input\n",
    "    : n_classes: Number of classes\n",
    "    : return: Tensor for label input.\n",
    "    \"\"\"\n",
    "    tf_shape = [None]\n",
    "    tf_shape.append(n_classes)\n",
    "    #print(tf_shape)\n",
    "    return tf.placeholder(tf.float32, shape=tf_shape, name='y')\n",
    "\n",
    "\n",
    "def neural_net_keep_prob_input():\n",
    "    \"\"\"\n",
    "    Return a Tensor for keep probability\n",
    "    : return: Tensor for keep probability.\n",
    "    \"\"\"\n",
    "    return tf.placeholder(tf.float32, name='keep_prob')\n",
    "\n",
    "\n",
    "\"\"\"\n",
    "DON'T MODIFY ANYTHING IN THIS CELL THAT IS BELOW THIS LINE\n",
    "\"\"\"\n",
    "tf.reset_default_graph()\n",
    "tests.test_nn_image_inputs(neural_net_image_input)\n",
    "tests.test_nn_label_inputs(neural_net_label_input)\n",
    "tests.test_nn_keep_prob_inputs(neural_net_keep_prob_input)"
   ]
  },
  {
   "cell_type": "markdown",
   "metadata": {},
   "source": [
    "### Convolution and Max Pooling Layer\n",
    "Convolution layers have a lot of success with images. For this code cell, you should implement the function `conv2d_maxpool` to apply convolution then max pooling:\n",
    "* Create the weight and bias using `conv_ksize`, `conv_num_outputs` and the shape of `x_tensor`.\n",
    "* Apply a convolution to `x_tensor` using weight and `conv_strides`.\n",
    " * We recommend you use same padding, but you're welcome to use any padding.\n",
    "* Add bias\n",
    "* Add a nonlinear activation to the convolution.\n",
    "* Apply Max Pooling using `pool_ksize` and `pool_strides`.\n",
    " * We recommend you use same padding, but you're welcome to use any padding.\n",
    "\n",
    "**Note:** You **can't** use [TensorFlow Layers](https://www.tensorflow.org/api_docs/python/tf/layers) or [TensorFlow Layers (contrib)](https://www.tensorflow.org/api_guides/python/contrib.layers) for **this** layer, but you can still use TensorFlow's [Neural Network](https://www.tensorflow.org/api_docs/python/tf/nn) package. You may still use the shortcut option for all the **other** layers."
   ]
  },
  {
   "cell_type": "code",
   "execution_count": 372,
   "metadata": {},
   "outputs": [
    {
     "name": "stdout",
     "output_type": "stream",
     "text": [
      "Tests Passed\n"
     ]
    }
   ],
   "source": [
    "def conv2d_maxpool(x_tensor, conv_num_outputs, conv_ksize, conv_strides, pool_ksize, pool_strides):\n",
    "    \"\"\"\n",
    "    Apply convolution then max pooling to x_tensor\n",
    "    :param x_tensor: TensorFlow Tensor\n",
    "    :param conv_num_outputs: Number of outputs for the convolutional layer\n",
    "    :param conv_ksize: kernal size 2-D Tuple for the convolutional layer\n",
    "    :param conv_strides: Stride 2-D Tuple for convolution\n",
    "    :param pool_ksize: kernal size 2-D Tuple for pool\n",
    "    :param pool_strides: Stride 2-D Tuple for pool\n",
    "    : return: A tensor that represents convolution and max pooling of x_tensor\n",
    "    \"\"\"\n",
    "    # Short cut implementation just as reference\n",
    "    # conv2d = tf.layers.conv2d(x_tensor,conv_num_outputs,conv_ksize,strides=conv_strides,padding='valid')\n",
    "    nn_conv_ksize = [1, conv_ksize[0], conv_ksize[1], 1]\n",
    "    nn_conv_strides = [1, conv_strides[0], conv_strides[1], 1]\n",
    "    nn_conv_weights_shape = [conv_ksize[0], conv_ksize[1], x_tensor.get_shape().as_list()[3], conv_num_outputs]\n",
    "    \n",
    "    conv_weights = tf.Variable(tf.truncated_normal(nn_conv_weights_shape, stddev = 0.25))\n",
    "    conv_bias = tf.Variable(tf.zeros(conv_num_outputs))\n",
    "    \n",
    "    conv2d = tf.nn.conv2d(x_tensor, conv_weights, strides=nn_conv_strides, padding='SAME')\n",
    "    conv2d = tf.nn.bias_add(conv2d, conv_bias)\n",
    "    conv2d = tf.nn.relu(conv2d)\n",
    "    \n",
    "    # Max pool\n",
    "    # Short cut implementation as reference\n",
    "    # return tf.layers.max_pooling2d(conv2d,pool_ksize,pool_strides)\n",
    "    nn_pool_ksize = [1, pool_ksize[0], pool_ksize[1], 1]\n",
    "    nn_pool_strides = [1, pool_strides[0], pool_strides[1], 1]\n",
    "    return tf.nn.max_pool(conv2d, ksize=nn_pool_ksize, strides=nn_pool_strides, padding='SAME')\n",
    "    \n",
    "\"\"\"\n",
    "DON'T MODIFY ANYTHING IN THIS CELL THAT IS BELOW THIS LINE\n",
    "\"\"\"\n",
    "tests.test_con_pool(conv2d_maxpool)"
   ]
  },
  {
   "cell_type": "markdown",
   "metadata": {},
   "source": [
    "### Flatten Layer\n",
    "Implement the `flatten` function to change the dimension of `x_tensor` from a 4-D tensor to a 2-D tensor.  The output should be the shape (*Batch Size*, *Flattened Image Size*). Shortcut option: you can use classes from the [TensorFlow Layers](https://www.tensorflow.org/api_docs/python/tf/layers) or [TensorFlow Layers (contrib)](https://www.tensorflow.org/api_guides/python/contrib.layers) packages for this layer. For more of a challenge, only use other TensorFlow packages."
   ]
  },
  {
   "cell_type": "code",
   "execution_count": null,
   "metadata": {},
   "outputs": [],
   "source": [
    "def flatten(x_tensor):\n",
    "    \"\"\"\n",
    "    Flatten x_tensor to (Batch Size, Flattened Image Size)\n",
    "    : x_tensor: A tensor of size (Batch Size, ...), where ... are the image dimensions.\n",
    "    : return: A tensor of size (Batch Size, Flattened Image Size).\n",
    "    \"\"\"\n",
    "    # Chose to do the short cut here due a lack of time\n",
    "    return tf.contrib.layers.flatten(x_tensor)\n",
    "\n",
    "\n",
    "\"\"\"\n",
    "DON'T MODIFY ANYTHING IN THIS CELL THAT IS BELOW THIS LINE\n",
    "\"\"\"\n",
    "tests.test_flatten(flatten)"
   ]
  },
  {
   "cell_type": "markdown",
   "metadata": {},
   "source": [
    "### Fully-Connected Layer\n",
    "Implement the `fully_conn` function to apply a fully connected layer to `x_tensor` with the shape (*Batch Size*, *num_outputs*). Shortcut option: you can use classes from the [TensorFlow Layers](https://www.tensorflow.org/api_docs/python/tf/layers) or [TensorFlow Layers (contrib)](https://www.tensorflow.org/api_guides/python/contrib.layers) packages for this layer. For more of a challenge, only use other TensorFlow packages."
   ]
  },
  {
   "cell_type": "code",
   "execution_count": null,
   "metadata": {},
   "outputs": [],
   "source": [
    "def fully_conn(x_tensor, num_outputs):\n",
    "    \"\"\"\n",
    "    Apply a fully connected layer to x_tensor using weight and bias\n",
    "    : x_tensor: A 2-D tensor where the first dimension is batch size.\n",
    "    : num_outputs: The number of output that the new tensor should be.\n",
    "    : return: A 2-D tensor where the second dimension is num_outputs.\n",
    "    \"\"\"\n",
    "    # Chose to do the short cut here due a lack of time\n",
    "    return tf.contrib.layers.fully_connected(x_tensor, num_outputs)\n",
    "\n",
    "\n",
    "\"\"\"\n",
    "DON'T MODIFY ANYTHING IN THIS CELL THAT IS BELOW THIS LINE\n",
    "\"\"\"\n",
    "tests.test_fully_conn(fully_conn)"
   ]
  },
  {
   "cell_type": "markdown",
   "metadata": {},
   "source": [
    "### Output Layer\n",
    "Implement the `output` function to apply a fully connected layer to `x_tensor` with the shape (*Batch Size*, *num_outputs*). Shortcut option: you can use classes from the [TensorFlow Layers](https://www.tensorflow.org/api_docs/python/tf/layers) or [TensorFlow Layers (contrib)](https://www.tensorflow.org/api_guides/python/contrib.layers) packages for this layer. For more of a challenge, only use other TensorFlow packages.\n",
    "\n",
    "**Note:** Activation, softmax, or cross entropy should **not** be applied to this."
   ]
  },
  {
   "cell_type": "code",
   "execution_count": null,
   "metadata": {},
   "outputs": [],
   "source": [
    "def output(x_tensor, num_outputs):\n",
    "    \"\"\"\n",
    "    Apply a output layer to x_tensor using weight and bias\n",
    "    : x_tensor: A 2-D tensor where the first dimension is batch size.\n",
    "    : num_outputs: The number of output that the new tensor should be.\n",
    "    : return: A 2-D tensor where the second dimension is num_outputs.\n",
    "    \"\"\"\n",
    "    # Chose to do the short cut here due a lack of time\n",
    "    return tf.contrib.layers.fully_connected(x_tensor, num_outputs, activation_fn=None)\n",
    "\n",
    "\n",
    "\"\"\"\n",
    "DON'T MODIFY ANYTHING IN THIS CELL THAT IS BELOW THIS LINE\n",
    "\"\"\"\n",
    "tests.test_output(output)"
   ]
  },
  {
   "cell_type": "markdown",
   "metadata": {},
   "source": [
    "### Create Convolutional Model\n",
    "Implement the function `conv_net` to create a convolutional neural network model. The function takes in a batch of images, `x`, and outputs logits.  Use the layers you created above to create this model:\n",
    "\n",
    "* Apply 1, 2, or 3 Convolution and Max Pool layers\n",
    "* Apply a Flatten Layer\n",
    "* Apply 1, 2, or 3 Fully Connected Layers\n",
    "* Apply an Output Layer\n",
    "* Return the output\n",
    "* Apply [TensorFlow's Dropout](https://www.tensorflow.org/api_docs/python/tf/nn/dropout) to one or more layers in the model using `keep_prob`. "
   ]
  },
  {
   "cell_type": "code",
   "execution_count": null,
   "metadata": {},
   "outputs": [],
   "source": [
    "def conv_net(x, keep_prob):\n",
    "    \"\"\"\n",
    "    Create a convolutional neural network model\n",
    "    : x: Placeholder tensor that holds image data.\n",
    "    : keep_prob: Placeholder tensor that hold dropout keep probability.\n",
    "    : return: Tensor that represents logits\n",
    "    \"\"\"\n",
    "    # TODO: Apply 1, 2, or 3 Convolution and Max Pool layers\n",
    "    #    Play around with different number of outputs, kernel size and stride\n",
    "    # Function Definition from Above:\n",
    "    #    conv2d_maxpool(x_tensor, conv_num_outputs, conv_ksize, conv_strides, pool_ksize, pool_strides)\n",
    "    conv2d_result_1 = conv2d_maxpool(x, 20, [8,8], [1,1], [2,2], [2,2])\n",
    "    conv2d_result_2 = conv2d_maxpool(conv2d_result_1, 40, [4,4], [1,1], [2,2], [2,2])\n",
    "    conv2d_result_2_dropout = tf.nn.dropout(conv2d_result_2, keep_prob)\n",
    "    #conv2d_result_3 = conv2d_maxpool(conv2d_result_2_dropout, 80, [2,2], [1,1], [2,2], [2,2])\n",
    "\n",
    "    \n",
    "    # TODO: Apply a Flatten Layer\n",
    "    # Function Definition from Above:\n",
    "    #   flatten(x_tensor)\n",
    "    flatten_result = flatten(conv2d_result_2_dropout)\n",
    "\n",
    "    # TODO: Apply 1, 2, or 3 Fully Connected Layers\n",
    "    #    Play around with different number of outputs\n",
    "    # Function Definition from Above:\n",
    "    #   fully_conn(x_tensor, num_outputs)\n",
    "    fully_conn_result_1 = fully_conn(flatten_result, 1000)\n",
    "    fully_conn_result_1_dropout = tf.nn.dropout(fully_conn_result_1, keep_prob)\n",
    "    fully_conn_result_2 = fully_conn(fully_conn_result_1_dropout, 200)\n",
    "    \n",
    "    # TODO: Apply an Output Layer\n",
    "    #    Set this to the number of classes\n",
    "    # Function Definition from Above:\n",
    "    #   output(x_tensor, num_outputs)\n",
    "    result = output(fully_conn_result_2, 10)\n",
    "    \n",
    "    # TODO: return output\n",
    "    return result\n",
    "\n",
    "\n",
    "\"\"\"\n",
    "DON'T MODIFY ANYTHING IN THIS CELL THAT IS BELOW THIS LINE\n",
    "\"\"\"\n",
    "\n",
    "##############################\n",
    "## Build the Neural Network ##\n",
    "##############################\n",
    "\n",
    "# Remove previous weights, bias, inputs, etc..\n",
    "tf.reset_default_graph()\n",
    "\n",
    "# Inputs\n",
    "x = neural_net_image_input((32, 32, 3))\n",
    "y = neural_net_label_input(10)\n",
    "keep_prob = neural_net_keep_prob_input()\n",
    "\n",
    "# Model\n",
    "logits = conv_net(x, keep_prob)\n",
    "\n",
    "# Name logits Tensor, so that is can be loaded from disk after training\n",
    "logits = tf.identity(logits, name='logits')\n",
    "\n",
    "# Loss and Optimizer\n",
    "cost = tf.reduce_mean(tf.nn.softmax_cross_entropy_with_logits(logits=logits, labels=y))\n",
    "optimizer = tf.train.AdamOptimizer().minimize(cost)\n",
    "\n",
    "# Accuracy\n",
    "correct_pred = tf.equal(tf.argmax(logits, 1), tf.argmax(y, 1))\n",
    "accuracy = tf.reduce_mean(tf.cast(correct_pred, tf.float32), name='accuracy')\n",
    "\n",
    "tests.test_conv_net(conv_net)"
   ]
  },
  {
   "cell_type": "markdown",
   "metadata": {},
   "source": [
    "## Train the Neural Network\n",
    "### Single Optimization\n",
    "Implement the function `train_neural_network` to do a single optimization.  The optimization should use `optimizer` to optimize in `session` with a `feed_dict` of the following:\n",
    "* `x` for image input\n",
    "* `y` for labels\n",
    "* `keep_prob` for keep probability for dropout\n",
    "\n",
    "This function will be called for each batch, so `tf.global_variables_initializer()` has already been called.\n",
    "\n",
    "Note: Nothing needs to be returned. This function is only optimizing the neural network."
   ]
  },
  {
   "cell_type": "code",
   "execution_count": null,
   "metadata": {},
   "outputs": [],
   "source": [
    "def train_neural_network(session, optimizer, keep_probability, feature_batch, label_batch):\n",
    "    \"\"\"\n",
    "    Optimize the session on a batch of images and labels\n",
    "    : session: Current TensorFlow session\n",
    "    : optimizer: TensorFlow optimizer function\n",
    "    : keep_probability: keep probability\n",
    "    : feature_batch: Batch of Numpy image data\n",
    "    : label_batch: Batch of Numpy label data\n",
    "    \"\"\"\n",
    "    session.run(optimizer, feed_dict={x: feature_batch, y: label_batch, keep_prob: keep_probability})\n",
    "\n",
    "\n",
    "\n",
    "\"\"\"\n",
    "DON'T MODIFY ANYTHING IN THIS CELL THAT IS BELOW THIS LINE\n",
    "\"\"\"\n",
    "tests.test_train_nn(train_neural_network)"
   ]
  },
  {
   "cell_type": "markdown",
   "metadata": {},
   "source": [
    "### Show Stats\n",
    "Implement the function `print_stats` to print loss and validation accuracy.  Use the global variables `valid_features` and `valid_labels` to calculate validation accuracy.  Use a keep probability of `1.0` to calculate the loss and validation accuracy."
   ]
  },
  {
   "cell_type": "code",
   "execution_count": null,
   "metadata": {},
   "outputs": [],
   "source": [
    "def print_stats(session, feature_batch, label_batch, cost, accuracy):\n",
    "    \"\"\"\n",
    "    Print information about loss and validation accuracy\n",
    "    : session: Current TensorFlow session\n",
    "    : feature_batch: Batch of Numpy image data\n",
    "    : label_batch: Batch of Numpy label data\n",
    "    : cost: TensorFlow cost function\n",
    "    : accuracy: TensorFlow accuracy function\n",
    "    \"\"\"\n",
    "    cost_value = session.run(cost, feed_dict={x: feature_batch, y: label_batch, keep_prob: 1.0})\n",
    "    acc_value = session.run(accuracy, feed_dict={x: feature_batch, y: label_batch, keep_prob: 1.0})\n",
    "    print(\"Stats: Costs %s, Acc. %s\" % (cost_value, acc_value))"
   ]
  },
  {
   "cell_type": "markdown",
   "metadata": {},
   "source": [
    "### Hyperparameters\n",
    "Tune the following parameters:\n",
    "* Set `epochs` to the number of iterations until the network stops learning or start overfitting\n",
    "* Set `batch_size` to the highest number that your machine has memory for.  Most people set them to common sizes of memory:\n",
    " * 64\n",
    " * 128\n",
    " * 256\n",
    " * ...\n",
    "* Set `keep_probability` to the probability of keeping a node using dropout"
   ]
  },
  {
   "cell_type": "code",
   "execution_count": null,
   "metadata": {
    "collapsed": true
   },
   "outputs": [],
   "source": [
    "# TODO: Tune Parameters\n",
    "epochs = 20\n",
    "batch_size = 1024\n",
    "keep_probability = 0.85"
   ]
  },
  {
   "cell_type": "markdown",
   "metadata": {},
   "source": [
    "### Train on a Single CIFAR-10 Batch\n",
    "Instead of training the neural network on all the CIFAR-10 batches of data, let's use a single batch. This should save time while you iterate on the model to get a better accuracy.  Once the final validation accuracy is 50% or greater, run the model on all the data in the next section."
   ]
  },
  {
   "cell_type": "code",
   "execution_count": 373,
   "metadata": {
    "scrolled": true
   },
   "outputs": [
    {
     "name": "stdout",
     "output_type": "stream",
     "text": [
      "Checking the Training on a Single Batch...\n",
      "Epoch  1, CIFAR-10 Batch 1:  Stats: Costs 4.2227, Acc. 0.142327\n",
      "Epoch  2, CIFAR-10 Batch 1:  Stats: Costs 2.23926, Acc. 0.15099\n",
      "Epoch  3, CIFAR-10 Batch 1:  Stats: Costs 2.16796, Acc. 0.252475\n",
      "Epoch  4, CIFAR-10 Batch 1:  Stats: Costs 2.03718, Acc. 0.27104\n",
      "Epoch  5, CIFAR-10 Batch 1:  Stats: Costs 1.89225, Acc. 0.316832\n",
      "Epoch  6, CIFAR-10 Batch 1:  Stats: Costs 1.77451, Acc. 0.356436\n",
      "Epoch  7, CIFAR-10 Batch 1:  Stats: Costs 1.67733, Acc. 0.376238\n",
      "Epoch  8, CIFAR-10 Batch 1:  Stats: Costs 1.59087, Acc. 0.420792\n",
      "Epoch  9, CIFAR-10 Batch 1:  Stats: Costs 1.48535, Acc. 0.475248\n",
      "Epoch 10, CIFAR-10 Batch 1:  Stats: Costs 1.40129, Acc. 0.507426\n",
      "Epoch 11, CIFAR-10 Batch 1:  Stats: Costs 1.32302, Acc. 0.533416\n",
      "Epoch 12, CIFAR-10 Batch 1:  Stats: Costs 1.25815, Acc. 0.570545\n",
      "Epoch 13, CIFAR-10 Batch 1:  Stats: Costs 1.19875, Acc. 0.595297\n",
      "Epoch 14, CIFAR-10 Batch 1:  Stats: Costs 1.13582, Acc. 0.616337\n",
      "Epoch 15, CIFAR-10 Batch 1:  Stats: Costs 1.0764, Acc. 0.639852\n",
      "Epoch 16, CIFAR-10 Batch 1:  Stats: Costs 1.01539, Acc. 0.667079\n",
      "Epoch 17, CIFAR-10 Batch 1:  Stats: Costs 0.950371, Acc. 0.686881\n",
      "Epoch 18, CIFAR-10 Batch 1:  Stats: Costs 0.889367, Acc. 0.72896\n",
      "Epoch 19, CIFAR-10 Batch 1:  Stats: Costs 0.82864, Acc. 0.758663\n",
      "Epoch 20, CIFAR-10 Batch 1:  Stats: Costs 0.789485, Acc. 0.759901\n"
     ]
    }
   ],
   "source": [
    "\"\"\"\n",
    "DON'T MODIFY ANYTHING IN THIS CELL\n",
    "\"\"\"\n",
    "print('Checking the Training on a Single Batch...')\n",
    "with tf.Session() as sess:\n",
    "    # Initializing the variables\n",
    "    sess.run(tf.global_variables_initializer())\n",
    "    \n",
    "    # Training cycle\n",
    "    for epoch in range(epochs):\n",
    "        batch_i = 1\n",
    "        for batch_features, batch_labels in helper.load_preprocess_training_batch(batch_i, batch_size):\n",
    "            train_neural_network(sess, optimizer, keep_probability, batch_features, batch_labels)\n",
    "        print('Epoch {:>2}, CIFAR-10 Batch {}:  '.format(epoch + 1, batch_i), end='')\n",
    "        print_stats(sess, batch_features, batch_labels, cost, accuracy)"
   ]
  },
  {
   "cell_type": "markdown",
   "metadata": {},
   "source": [
    "### Fully Train the Model\n",
    "Now that you got a good accuracy with a single CIFAR-10 batch, try it with all five batches."
   ]
  },
  {
   "cell_type": "code",
   "execution_count": 374,
   "metadata": {},
   "outputs": [
    {
     "name": "stdout",
     "output_type": "stream",
     "text": [
      "Training...\n",
      "Epoch  1, CIFAR-10 Batch 1:  Stats: Costs 7.38097, Acc. 0.10396\n",
      "Epoch  1, CIFAR-10 Batch 2:  Stats: Costs 2.50285, Acc. 0.106436\n",
      "Epoch  1, CIFAR-10 Batch 3:  Stats: Costs 2.24033, Acc. 0.139851\n",
      "Epoch  1, CIFAR-10 Batch 4:  Stats: Costs 2.1945, Acc. 0.225248\n",
      "Epoch  1, CIFAR-10 Batch 5:  Stats: Costs 2.07798, Acc. 0.241337\n",
      "Epoch  2, CIFAR-10 Batch 1:  Stats: Costs 1.92727, Acc. 0.310644\n",
      "Epoch  2, CIFAR-10 Batch 2:  Stats: Costs 1.82329, Acc. 0.365099\n",
      "Epoch  2, CIFAR-10 Batch 3:  Stats: Costs 1.64807, Acc. 0.424505\n",
      "Epoch  2, CIFAR-10 Batch 4:  Stats: Costs 1.64014, Acc. 0.423267\n",
      "Epoch  2, CIFAR-10 Batch 5:  Stats: Costs 1.6082, Acc. 0.435644\n",
      "Epoch  3, CIFAR-10 Batch 1:  Stats: Costs 1.52149, Acc. 0.45297\n",
      "Epoch  3, CIFAR-10 Batch 2:  Stats: Costs 1.49322, Acc. 0.467822\n",
      "Epoch  3, CIFAR-10 Batch 3:  Stats: Costs 1.35816, Acc. 0.503713\n",
      "Epoch  3, CIFAR-10 Batch 4:  Stats: Costs 1.41323, Acc. 0.514852\n",
      "Epoch  3, CIFAR-10 Batch 5:  Stats: Costs 1.38532, Acc. 0.534653\n",
      "Epoch  4, CIFAR-10 Batch 1:  Stats: Costs 1.3485, Acc. 0.528465\n",
      "Epoch  4, CIFAR-10 Batch 2:  Stats: Costs 1.33931, Acc. 0.523515\n",
      "Epoch  4, CIFAR-10 Batch 3:  Stats: Costs 1.27757, Acc. 0.559406\n",
      "Epoch  4, CIFAR-10 Batch 4:  Stats: Costs 1.26792, Acc. 0.575495\n",
      "Epoch  4, CIFAR-10 Batch 5:  Stats: Costs 1.25164, Acc. 0.600248\n",
      "Epoch  5, CIFAR-10 Batch 1:  Stats: Costs 1.23507, Acc. 0.574257\n",
      "Epoch  5, CIFAR-10 Batch 2:  Stats: Costs 1.22105, Acc. 0.57302\n",
      "Epoch  5, CIFAR-10 Batch 3:  Stats: Costs 1.15219, Acc. 0.586634\n",
      "Epoch  5, CIFAR-10 Batch 4:  Stats: Costs 1.16416, Acc. 0.601485\n",
      "Epoch  5, CIFAR-10 Batch 5:  Stats: Costs 1.1444, Acc. 0.634901\n",
      "Epoch  6, CIFAR-10 Batch 1:  Stats: Costs 1.14102, Acc. 0.60396\n",
      "Epoch  6, CIFAR-10 Batch 2:  Stats: Costs 1.14586, Acc. 0.60396\n",
      "Epoch  6, CIFAR-10 Batch 3:  Stats: Costs 1.06016, Acc. 0.627475\n",
      "Epoch  6, CIFAR-10 Batch 4:  Stats: Costs 1.07794, Acc. 0.626238\n",
      "Epoch  6, CIFAR-10 Batch 5:  Stats: Costs 1.05549, Acc. 0.655941\n",
      "Epoch  7, CIFAR-10 Batch 1:  Stats: Costs 1.05465, Acc. 0.64604\n",
      "Epoch  7, CIFAR-10 Batch 2:  Stats: Costs 1.03748, Acc. 0.628713\n",
      "Epoch  7, CIFAR-10 Batch 3:  Stats: Costs 0.99887, Acc. 0.633663\n",
      "Epoch  7, CIFAR-10 Batch 4:  Stats: Costs 1.00282, Acc. 0.652228\n",
      "Epoch  7, CIFAR-10 Batch 5:  Stats: Costs 0.990764, Acc. 0.668317\n",
      "Epoch  8, CIFAR-10 Batch 1:  Stats: Costs 0.976065, Acc. 0.665842\n",
      "Epoch  8, CIFAR-10 Batch 2:  Stats: Costs 0.957636, Acc. 0.686881\n",
      "Epoch  8, CIFAR-10 Batch 3:  Stats: Costs 0.900343, Acc. 0.689356\n",
      "Epoch  8, CIFAR-10 Batch 4:  Stats: Costs 0.927054, Acc. 0.683168\n",
      "Epoch  8, CIFAR-10 Batch 5:  Stats: Costs 0.900652, Acc. 0.699257\n",
      "Epoch  9, CIFAR-10 Batch 1:  Stats: Costs 0.900413, Acc. 0.69802\n",
      "Epoch  9, CIFAR-10 Batch 2:  Stats: Costs 0.881584, Acc. 0.705446\n",
      "Epoch  9, CIFAR-10 Batch 3:  Stats: Costs 0.833138, Acc. 0.719059\n",
      "Epoch  9, CIFAR-10 Batch 4:  Stats: Costs 0.860322, Acc. 0.705446\n",
      "Epoch  9, CIFAR-10 Batch 5:  Stats: Costs 0.833626, Acc. 0.721535\n",
      "Epoch 10, CIFAR-10 Batch 1:  Stats: Costs 0.825156, Acc. 0.731436\n",
      "Epoch 10, CIFAR-10 Batch 2:  Stats: Costs 0.81992, Acc. 0.730198\n",
      "Epoch 10, CIFAR-10 Batch 3:  Stats: Costs 0.761061, Acc. 0.746287\n",
      "Epoch 10, CIFAR-10 Batch 4:  Stats: Costs 0.803275, Acc. 0.733911\n",
      "Epoch 10, CIFAR-10 Batch 5:  Stats: Costs 0.782742, Acc. 0.735148\n",
      "Epoch 11, CIFAR-10 Batch 1:  Stats: Costs 0.773245, Acc. 0.733911\n",
      "Epoch 11, CIFAR-10 Batch 2:  Stats: Costs 0.755463, Acc. 0.762376\n",
      "Epoch 11, CIFAR-10 Batch 3:  Stats: Costs 0.709047, Acc. 0.758663\n",
      "Epoch 11, CIFAR-10 Batch 4:  Stats: Costs 0.747164, Acc. 0.762376\n",
      "Epoch 11, CIFAR-10 Batch 5:  Stats: Costs 0.721682, Acc. 0.758663\n",
      "Epoch 12, CIFAR-10 Batch 1:  Stats: Costs 0.719162, Acc. 0.763614\n",
      "Epoch 12, CIFAR-10 Batch 2:  Stats: Costs 0.716451, Acc. 0.77599\n",
      "Epoch 12, CIFAR-10 Batch 3:  Stats: Costs 0.689416, Acc. 0.777228\n",
      "Epoch 12, CIFAR-10 Batch 4:  Stats: Costs 0.686069, Acc. 0.788366\n",
      "Epoch 12, CIFAR-10 Batch 5:  Stats: Costs 0.693166, Acc. 0.763614\n",
      "Epoch 13, CIFAR-10 Batch 1:  Stats: Costs 0.663637, Acc. 0.795792\n",
      "Epoch 13, CIFAR-10 Batch 2:  Stats: Costs 0.656087, Acc. 0.782178\n",
      "Epoch 13, CIFAR-10 Batch 3:  Stats: Costs 0.618879, Acc. 0.80198\n",
      "Epoch 13, CIFAR-10 Batch 4:  Stats: Costs 0.651504, Acc. 0.792079\n",
      "Epoch 13, CIFAR-10 Batch 5:  Stats: Costs 0.624596, Acc. 0.806931\n",
      "Epoch 14, CIFAR-10 Batch 1:  Stats: Costs 0.607738, Acc. 0.808168\n",
      "Epoch 14, CIFAR-10 Batch 2:  Stats: Costs 0.623889, Acc. 0.803218\n",
      "Epoch 14, CIFAR-10 Batch 3:  Stats: Costs 0.553033, Acc. 0.82302\n",
      "Epoch 14, CIFAR-10 Batch 4:  Stats: Costs 0.583001, Acc. 0.832921\n",
      "Epoch 14, CIFAR-10 Batch 5:  Stats: Costs 0.565166, Acc. 0.825495\n",
      "Epoch 15, CIFAR-10 Batch 1:  Stats: Costs 0.553579, Acc. 0.829208\n",
      "Epoch 15, CIFAR-10 Batch 2:  Stats: Costs 0.598364, Acc. 0.803218\n",
      "Epoch 15, CIFAR-10 Batch 3:  Stats: Costs 0.528438, Acc. 0.847772\n",
      "Epoch 15, CIFAR-10 Batch 4:  Stats: Costs 0.551229, Acc. 0.834158\n",
      "Epoch 15, CIFAR-10 Batch 5:  Stats: Costs 0.514186, Acc. 0.847772\n",
      "Epoch 16, CIFAR-10 Batch 1:  Stats: Costs 0.520778, Acc. 0.834158\n",
      "Epoch 16, CIFAR-10 Batch 2:  Stats: Costs 0.529594, Acc. 0.847772\n",
      "Epoch 16, CIFAR-10 Batch 3:  Stats: Costs 0.479215, Acc. 0.841584\n",
      "Epoch 16, CIFAR-10 Batch 4:  Stats: Costs 0.498672, Acc. 0.866337\n",
      "Epoch 16, CIFAR-10 Batch 5:  Stats: Costs 0.462388, Acc. 0.872525\n",
      "Epoch 17, CIFAR-10 Batch 1:  Stats: Costs 0.464874, Acc. 0.857673\n",
      "Epoch 17, CIFAR-10 Batch 2:  Stats: Costs 0.485686, Acc. 0.876238\n",
      "Epoch 17, CIFAR-10 Batch 3:  Stats: Costs 0.425382, Acc. 0.871287\n",
      "Epoch 17, CIFAR-10 Batch 4:  Stats: Costs 0.494529, Acc. 0.851485\n",
      "Epoch 17, CIFAR-10 Batch 5:  Stats: Costs 0.447884, Acc. 0.866337\n",
      "Epoch 18, CIFAR-10 Batch 1:  Stats: Costs 0.443385, Acc. 0.870049\n",
      "Epoch 18, CIFAR-10 Batch 2:  Stats: Costs 0.451664, Acc. 0.877475\n",
      "Epoch 18, CIFAR-10 Batch 3:  Stats: Costs 0.398339, Acc. 0.893564\n",
      "Epoch 18, CIFAR-10 Batch 4:  Stats: Costs 0.455733, Acc. 0.871287\n",
      "Epoch 18, CIFAR-10 Batch 5:  Stats: Costs 0.411452, Acc. 0.878713\n",
      "Epoch 19, CIFAR-10 Batch 1:  Stats: Costs 0.411107, Acc. 0.881188\n",
      "Epoch 19, CIFAR-10 Batch 2:  Stats: Costs 0.408454, Acc. 0.888614\n",
      "Epoch 19, CIFAR-10 Batch 3:  Stats: Costs 0.359438, Acc. 0.905941\n",
      "Epoch 19, CIFAR-10 Batch 4:  Stats: Costs 0.425612, Acc. 0.877475\n",
      "Epoch 19, CIFAR-10 Batch 5:  Stats: Costs 0.369477, Acc. 0.89604\n",
      "Epoch 20, CIFAR-10 Batch 1:  Stats: Costs 0.386498, Acc. 0.889852\n",
      "Epoch 20, CIFAR-10 Batch 2:  Stats: Costs 0.367412, Acc. 0.893564\n",
      "Epoch 20, CIFAR-10 Batch 3:  Stats: Costs 0.33091, Acc. 0.923267\n",
      "Epoch 20, CIFAR-10 Batch 4:  Stats: Costs 0.368347, Acc. 0.891089\n",
      "Epoch 20, CIFAR-10 Batch 5:  Stats: Costs 0.331096, Acc. 0.914604\n"
     ]
    }
   ],
   "source": [
    "\"\"\"\n",
    "DON'T MODIFY ANYTHING IN THIS CELL\n",
    "\"\"\"\n",
    "save_model_path = './image_classification'\n",
    "\n",
    "print('Training...')\n",
    "with tf.Session() as sess:\n",
    "    # Initializing the variables\n",
    "    sess.run(tf.global_variables_initializer())\n",
    "    \n",
    "    # Training cycle\n",
    "    for epoch in range(epochs):\n",
    "        # Loop over all batches\n",
    "        n_batches = 5\n",
    "        for batch_i in range(1, n_batches + 1):\n",
    "            for batch_features, batch_labels in helper.load_preprocess_training_batch(batch_i, batch_size):\n",
    "                train_neural_network(sess, optimizer, keep_probability, batch_features, batch_labels)\n",
    "            print('Epoch {:>2}, CIFAR-10 Batch {}:  '.format(epoch + 1, batch_i), end='')\n",
    "            print_stats(sess, batch_features, batch_labels, cost, accuracy)\n",
    "            \n",
    "    # Save Model\n",
    "    saver = tf.train.Saver()\n",
    "    save_path = saver.save(sess, save_model_path)"
   ]
  },
  {
   "cell_type": "markdown",
   "metadata": {},
   "source": [
    "# Checkpoint\n",
    "The model has been saved to disk.\n",
    "## Test Model\n",
    "Test your model against the test dataset.  This will be your final accuracy. You should have an accuracy greater than 50%. If you don't, keep tweaking the model architecture and parameters."
   ]
  },
  {
   "cell_type": "code",
   "execution_count": 375,
   "metadata": {},
   "outputs": [
    {
     "name": "stdout",
     "output_type": "stream",
     "text": [
      "INFO:tensorflow:Restoring parameters from ./image_classification\n",
      "Testing Accuracy: 0.626159918308258\n",
      "\n"
     ]
    },
    {
     "data": {
      "image/png": "[encoded data removed]",
      "text/plain": [
       "<matplotlib.figure.Figure at 0x11e24ea58>"
      ]
     },
     "metadata": {
      "image/png": {
       "height": 319,
       "width": 355
      }
     },
     "output_type": "display_data"
    }
   ],
   "source": [
    "\"\"\"\n",
    "DON'T MODIFY ANYTHING IN THIS CELL\n",
    "\"\"\"\n",
    "%matplotlib inline\n",
    "%config InlineBackend.figure_format = 'retina'\n",
    "\n",
    "import tensorflow as tf\n",
    "import pickle\n",
    "import helper\n",
    "import random\n",
    "\n",
    "# Set batch size if not already set\n",
    "try:\n",
    "    if batch_size:\n",
    "        pass\n",
    "except NameError:\n",
    "    batch_size = 64\n",
    "\n",
    "save_model_path = './image_classification'\n",
    "n_samples = 4\n",
    "top_n_predictions = 3\n",
    "\n",
    "def test_model():\n",
    "    \"\"\"\n",
    "    Test the saved model against the test dataset\n",
    "    \"\"\"\n",
    "\n",
    "    test_features, test_labels = pickle.load(open('preprocess_test.p', mode='rb'))\n",
    "    loaded_graph = tf.Graph()\n",
    "\n",
    "    with tf.Session(graph=loaded_graph) as sess:\n",
    "        # Load model\n",
    "        loader = tf.train.import_meta_graph(save_model_path + '.meta')\n",
    "        loader.restore(sess, save_model_path)\n",
    "\n",
    "        # Get Tensors from loaded model\n",
    "        loaded_x = loaded_graph.get_tensor_by_name('x:0')\n",
    "        loaded_y = loaded_graph.get_tensor_by_name('y:0')\n",
    "        loaded_keep_prob = loaded_graph.get_tensor_by_name('keep_prob:0')\n",
    "        loaded_logits = loaded_graph.get_tensor_by_name('logits:0')\n",
    "        loaded_acc = loaded_graph.get_tensor_by_name('accuracy:0')\n",
    "        \n",
    "        # Get accuracy in batches for memory limitations\n",
    "        test_batch_acc_total = 0\n",
    "        test_batch_count = 0\n",
    "        \n",
    "        for test_feature_batch, test_label_batch in helper.batch_features_labels(test_features, test_labels, batch_size):\n",
    "            test_batch_acc_total += sess.run(\n",
    "                loaded_acc,\n",
    "                feed_dict={loaded_x: test_feature_batch, loaded_y: test_label_batch, loaded_keep_prob: 1.0})\n",
    "            test_batch_count += 1\n",
    "\n",
    "        print('Testing Accuracy: {}\\n'.format(test_batch_acc_total/test_batch_count))\n",
    "\n",
    "        # Print Random Samples\n",
    "        random_test_features, random_test_labels = tuple(zip(*random.sample(list(zip(test_features, test_labels)), n_samples)))\n",
    "        random_test_predictions = sess.run(\n",
    "            tf.nn.top_k(tf.nn.softmax(loaded_logits), top_n_predictions),\n",
    "            feed_dict={loaded_x: random_test_features, loaded_y: random_test_labels, loaded_keep_prob: 1.0})\n",
    "        helper.display_image_predictions(random_test_features, random_test_labels, random_test_predictions)\n",
    "\n",
    "\n",
    "test_model()"
   ]
  },
  {
   "cell_type": "markdown",
   "metadata": {},
   "source": [
    "## Why 50-80% Accuracy?\n",
    "You might be wondering why you can't get an accuracy any higher. First things first, 50% isn't bad for a simple CNN.  Pure guessing would get you 10% accuracy. However, you might notice people are getting scores [well above 80%](http://rodrigob.github.io/are_we_there_yet/build/classification_datasets_results.html#43494641522d3130).  That's because we haven't taught you all there is to know about neural networks. We still need to cover a few more techniques.\n",
    "## Submitting This Project\n",
    "When submitting this project, make sure to run all the cells before saving the notebook.  Save the notebook file as \"dlnd_image_classification.ipynb\" and save it as a HTML file under \"File\" -> \"Download as\".  Include the \"helper.py\" and \"problem_unittests.py\" files in your submission."
   ]
  },
  {
   "cell_type": "code",
   "execution_count": null,
   "metadata": {
    "collapsed": true
   },
   "outputs": [],
   "source": []
  }
 ],
 "metadata": {
  "kernelspec": {
   "display_name": "Python 3",
   "language": "python",
   "name": "python3"
  },
  "language_info": {
   "codemirror_mode": {
    "name": "ipython",
    "version": 3
   },
   "file_extension": ".py",
   "mimetype": "text/x-python",
   "name": "python",
   "nbconvert_exporter": "python",
   "pygments_lexer": "ipython3",
   "version": "3.5.3"
  }
 },
 "nbformat": 4,
 "nbformat_minor": 1
}
